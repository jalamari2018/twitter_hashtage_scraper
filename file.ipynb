{
 "cells": [
  {
   "cell_type": "code",
   "execution_count": 6,
   "metadata": {},
   "outputs": [],
   "source": [
    "# استيراد المكتبات اللازمة\n",
    "import pandas as pd\n",
    "from tqdm.notebook import tqdm\n",
    "import snscrape.modules.twitter as sntwitter"
   ]
  },
  {
   "attachments": {},
   "cell_type": "markdown",
   "metadata": {},
   "source": [
    "Pulling data from twiiter\n"
   ]
  },
  {
   "cell_type": "code",
   "execution_count": 37,
   "metadata": {},
   "outputs": [
    {
     "data": {
      "application/vnd.jupyter.widget-view+json": {
       "model_id": "7ca3b0f9451d464eb9073533a90202f3",
       "version_major": 2,
       "version_minor": 0
      },
      "text/plain": [
       "  0%|          | 0/1000 [00:00<?, ?it/s]"
      ]
     },
     "metadata": {},
     "output_type": "display_data"
    },
    {
     "name": "stderr",
     "output_type": "stream",
     "text": [
      "/var/folders/x2/3z6862zn4tn2_jk_rksmq03c0000gn/T/ipykernel_6767/1230434228.py:7: DeprecatedFeatureWarning: content is deprecated, use rawContent instead\n",
      "  tweet.content,\n"
     ]
    }
   ],
   "source": [
    "scraper = sntwitter.TwitterSearchScraper(\"ضع الهاشتاق هنا\")\n",
    "tweets = []\n",
    "number_of_tweets = 1000\n",
    "for i,tweet in tqdm(enumerate(scraper.get_items()), total=number_of_tweets):\n",
    "    data = [tweet.id,\n",
    "            tweet.date,\n",
    "            tweet.content,\n",
    "            tweet.user.username,\n",
    "            tweet.retweetCount, \n",
    "            tweet.likeCount\n",
    "            ]\n",
    "    tweets.append(data)\n",
    "    if i >number_of_tweets:\n",
    "        break\n",
    "    "
   ]
  },
  {
   "cell_type": "code",
   "execution_count": 38,
   "metadata": {},
   "outputs": [],
   "source": [
    "tweet_df = pd.DataFrame(tweets, columns=[\"id\",\"التاريخ\", \"محتوى التغريدة\", \"اسم المستخدم\",\"عدد اعادة التغريدات\", \"عدد الاعجابات\"])"
   ]
  },
  {
   "cell_type": "code",
   "execution_count": 1,
   "metadata": {},
   "outputs": [
    {
     "ename": "NameError",
     "evalue": "name 'tweet_df' is not defined",
     "output_type": "error",
     "traceback": [
      "\u001b[0;31m---------------------------------------------------------------------------\u001b[0m",
      "\u001b[0;31mNameError\u001b[0m                                 Traceback (most recent call last)",
      "\u001b[1;32m/Users/jalamari/Desktop/Career/development in python/twitter_scrap/file.ipynb Cell 5\u001b[0m in \u001b[0;36m<cell line: 1>\u001b[0;34m()\u001b[0m\n\u001b[0;32m----> <a href='vscode-notebook-cell:/Users/jalamari/Desktop/Career/development%20in%20python/twitter_scrap/file.ipynb#W4sZmlsZQ%3D%3D?line=0'>1</a>\u001b[0m tweet_df\n",
      "\u001b[0;31mNameError\u001b[0m: name 'tweet_df' is not defined"
     ]
    }
   ],
   "source": [
    "tweet_df\n",
    "# tweet_df.to_csv(\"tweets.csv\", index=False)"
   ]
  }
 ],
 "metadata": {
  "kernelspec": {
   "display_name": "Python 3",
   "language": "python",
   "name": "python3"
  },
  "language_info": {
   "codemirror_mode": {
    "name": "ipython",
    "version": 3
   },
   "file_extension": ".py",
   "mimetype": "text/x-python",
   "name": "python",
   "nbconvert_exporter": "python",
   "pygments_lexer": "ipython3",
   "version": "3.8.9"
  },
  "orig_nbformat": 4,
  "vscode": {
   "interpreter": {
    "hash": "31f2aee4e71d21fbe5cf8b01ff0e069b9275f58929596ceb00d14d90e3e16cd6"
   }
  }
 },
 "nbformat": 4,
 "nbformat_minor": 2
}
